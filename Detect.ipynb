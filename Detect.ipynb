{
 "cells": [
  {
   "cell_type": "code",
   "execution_count": 5,
   "metadata": {
    "collapsed": true
   },
   "outputs": [],
   "source": [
    "import cv2\n",
    "from keras.models import model_from_json\n",
    "import numpy as np\n",
    "from keras import losses"
   ]
  },
  {
   "cell_type": "code",
   "execution_count": 58,
   "metadata": {
    "collapsed": true
   },
   "outputs": [],
   "source": [
    "cap = cv2.VideoCapture(0)\n",
    "while True:\n",
    "    _,frame = cap.read()\n",
    "    hsv = cv2.cvtColor(frame,cv2.COLOR_BGR2HLS)\n",
    "    hsv = cv2.resize(hsv,(48,48))\n",
    "    cv2.imshow(\"video\",hsv)\n",
    "    if cv2.waitKey(1) & 0xFF == ord('q'):\n",
    "        break\n",
    "cap.release()\n",
    "cv2.destroyAllWindows()"
   ]
  },
  {
   "cell_type": "code",
   "execution_count": 48,
   "metadata": {
    "collapsed": true
   },
   "outputs": [],
   "source": [
    "json_file = open('model3_VGG16.json','r')\n",
    "loaded_json_model = json_file.read()\n",
    "json_file.close()\n",
    "cnn_model = model_from_json(loaded_json_model)"
   ]
  },
  {
   "cell_type": "code",
   "execution_count": 49,
   "metadata": {
    "collapsed": true
   },
   "outputs": [],
   "source": [
    "cnn_model.load_weights('model3_VGG16.h5')"
   ]
  },
  {
   "cell_type": "code",
   "execution_count": 50,
   "metadata": {
    "collapsed": true
   },
   "outputs": [],
   "source": [
    "cnn_model.compile(optimizer= 'adam',loss = losses.categorical_crossentropy,metrics = ['accuracy'])"
   ]
  },
  {
   "cell_type": "code",
   "execution_count": 11,
   "metadata": {
    "collapsed": true
   },
   "outputs": [],
   "source": [
    "alphabets = ('a','b','c','d','e','f','g','h','i','k','l','m','n','o','p','q','r','s','t','u','v','w','x','y')"
   ]
  },
  {
   "cell_type": "code",
   "execution_count": 21,
   "metadata": {
    "collapsed": true
   },
   "outputs": [],
   "source": [
    "close_cascade = cv2.CascadeClassifier('closed_palm.xml')\n",
    "open_cascade = cv2.CascadeClassifier('open_palm.xml')"
   ]
  },
  {
   "cell_type": "code",
   "execution_count": 67,
   "metadata": {
    "collapsed": true
   },
   "outputs": [],
   "source": [
    "def detect(gray, frame):\n",
    "    gray = cv2.flip(gray,1)\n",
    "    frame = cv2.flip(frame,1)\n",
    "    hand1 = close_cascade.detectMultiScale(gray, 1.3, 3) #(x,y,w,h) tupple is returned\n",
    "    for x,y,w,h in hand1:\n",
    "        roi = frame[x-50:x+w+50,y-50:y+h+50]\n",
    "        outline = cv2.rectangle(frame,(x-50,y-50),(x+w+50,y+h+50),(255,0,0),2)   \n",
    "        try:\n",
    "            hsv = cv2.cvtColor(roi,cv2.COLOR_BGR2RGB)\n",
    "            hsv = cv2.resize(hsv,(48,48))\n",
    "            hsv = hsv/255\n",
    "            hsv_expanded = np.expand_dims(hsv,axis=0)\n",
    "            detected_letter = str(alphabets[np.argmax(cnn_model.predict(hsv_expanded))])\n",
    "            font =cv2.FONT_HERSHEY_SIMPLEX\n",
    "            cv2.putText(outline,\"FIST \"+detected_letter,(x,y),font,1,(255,0,0),2,cv2.LINE_AA) \n",
    "        except:\n",
    "            continue\n",
    "    hand2 = open_cascade.detectMultiScale(gray, 1.2, 3) #(x,y,w,h) tupple is returned\n",
    "    for x,y,w,h in hand2:\n",
    "        roi = frame[x-50:x+w+50,y-50:y+h+50]\n",
    "        outline = cv2.rectangle(frame,(x-50,y-50),(x+w+50,y+h+50),(255,0,0),2)\n",
    "        try:\n",
    "            hsv = cv2.cvtColor(roi,cv2.COLOR_BGR2RGB)\n",
    "            hsv = cv2.resize(hsv,(48,48))\n",
    "            hsv = hsv/255\n",
    "            hsv_expanded = np.expand_dims(hsv,axis=0)\n",
    "            detected_letter = str(alphabets[np.argmax(cnn_model.predict(hsv_expanded))])\n",
    "            font =cv2.FONT_HERSHEY_SIMPLEX\n",
    "            cv2.putText(outline,\"PALM \"+detected_letter,(x,y-10),font,1,(255,0,0),2,cv2.LINE_AA)\n",
    "        except:\n",
    "            continue\n",
    "    return frame"
   ]
  },
  {
   "cell_type": "code",
   "execution_count": 68,
   "metadata": {
    "collapsed": true
   },
   "outputs": [],
   "source": [
    "cap = cv2.VideoCapture(0)\n",
    "while True:\n",
    "    _,frame = cap.read()\n",
    "    gray = cv2.cvtColor(frame,cv2.COLOR_BGR2GRAY)\n",
    "    canvas = detect(gray,frame)\n",
    "    cv2.imshow('video',canvas)\n",
    "    if cv2.waitKey(1) & 0xFF == ord('q'):\n",
    "        break\n",
    "cap.release()\n",
    "cv2.destroyAllWindows()"
   ]
  },
  {
   "cell_type": "code",
   "execution_count": 68,
   "metadata": {
    "collapsed": true
   },
   "outputs": [],
   "source": [
    "cap.release()\n",
    "cv2.destroyAllWindows()"
   ]
  },
  {
   "cell_type": "code",
   "execution_count": null,
   "metadata": {
    "collapsed": true
   },
   "outputs": [],
   "source": []
  }
 ],
 "metadata": {
  "kernelspec": {
   "display_name": "Python 3",
   "language": "python",
   "name": "python3"
  },
  "language_info": {
   "codemirror_mode": {
    "name": "ipython",
    "version": 3
   },
   "file_extension": ".py",
   "mimetype": "text/x-python",
   "name": "python",
   "nbconvert_exporter": "python",
   "pygments_lexer": "ipython3",
   "version": "3.6.3"
  }
 },
 "nbformat": 4,
 "nbformat_minor": 2
}
